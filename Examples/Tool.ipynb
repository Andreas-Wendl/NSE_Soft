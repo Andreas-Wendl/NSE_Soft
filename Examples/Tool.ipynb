{
 "cells": [
  {
   "cell_type": "markdown",
   "metadata": {},
   "source": [
    "# Import the dependencies"
   ]
  },
  {
   "cell_type": "code",
   "execution_count": 1,
   "metadata": {
    "scrolled": false
   },
   "outputs": [
    {
     "name": "stdout",
     "output_type": "stream",
     "text": [
      "3.7.0 (default, Aug 20 2018, 21:19:42) \n",
      "[Clang 9.1.0 (clang-902.0.39.2)]\n"
     ]
    }
   ],
   "source": [
    "import os\n",
    "from mieze_python.mieze import Mieze\n",
    "from pprint import pprint\n",
    "import sys \n",
    "print(sys.version)\n",
    "\n",
    "'''\n",
    "###########################################################\n",
    "The manager is the instance linking the following parts:\n",
    "- I/O manager for input output\n",
    "- The processing of data \n",
    "- The fitting of data (maybe merge processing and fitting)\n",
    "- The graphical manopulation of reduced and fitted data\n",
    "###########################################################\n",
    "'''\n",
    "tool = Mieze()\n",
    "\n"
   ]
  },
  {
   "cell_type": "markdown",
   "metadata": {},
   "source": [
    "# Process the elastic data"
   ]
  },
  {
   "cell_type": "markdown",
   "metadata": {},
   "source": [
    "## First set up the environnement"
   ]
  },
  {
   "cell_type": "code",
   "execution_count": 2,
   "metadata": {},
   "outputs": [],
   "source": [
    "'''\n",
    "###########################################################\n",
    "INITIALISE THE ENVIRONEMENT:\n",
    "\n",
    "Each dataset is initialised in a new environement. We\n",
    "therefore initialise a new environement through the manager\n",
    "run command with the keyword 'new environement'. The\n",
    "title and selected type are optional and will fall back to \n",
    "'No_title' and 'MIEZE' if not provided.\n",
    "\n",
    "###########################################################\n",
    "'''\n",
    "elastic_env = tool.new_environment(title = 'elastic', select = 'SANS')\n"
   ]
  },
  {
   "cell_type": "markdown",
   "metadata": {},
   "source": [
    "## Load the data"
   ]
  },
  {
   "cell_type": "code",
   "execution_count": 3,
   "metadata": {},
   "outputs": [
    {
     "name": "stdout",
     "output_type": "stream",
     "text": [
      "=========== This is the Input ============\n",
      "\n",
      "['Data', \"['110_1']\", '0012', 'range(2194, 2298)', '(128x128)']\n",
      "['Data', \"['100_1']\", '0012', 'range(2681, 2725)', '(128x128)']\n",
      "['Data', \"['100_2']\", '0012', 'range(2890, 2956)', '(128x128)']\n",
      "['Data', \"['BG']\", '0012', 'range(1609, 1611)', '(128x128)']\n",
      "\n",
      "##########################################################\n",
      "################## DATA STRUCTURE ########################\n",
      "##########################################################\n",
      "The datastructure currently consists of:\n",
      "- Number of elements: 108\n",
      "- Number of dimensions: 2\n",
      "- The axes names are: ['Type', 'Temperature']\n",
      "- The axes units are: ['-', 'K']\n",
      "- The axes lengths are: [4, 106]\n",
      "- The base structure is: np\n",
      "- The base structure dim is: (128, 128)\n",
      "- The metadata addition is set to: True\n",
      "----------------------------------------------------------\n",
      "Creation date: Tue Nov 27 16:32:12 2018\n",
      "Source format: PAD files\n",
      "Measurement type: SANS\n",
      "##########################################################\n",
      "\n",
      "\n"
     ]
    }
   ],
   "source": [
    "'''\n",
    "###########################################################\n",
    "LOAD THE DATA:\n",
    "\n",
    "at a further point in time different routines will be \n",
    "provided to load data. The current way of proceedign is to \n",
    "load a file containing all relevant information and let the\n",
    "routine parse the content. \n",
    "###########################################################\n",
    "'''\n",
    "elastic_env.io.load_SANS_PAD('SkX_down.txt')\n",
    "elastic_env.process.extract_from_metadata(axis = 'Temperature', key = 'T_B')\n",
    "print(elastic_env.current_data)"
   ]
  },
  {
   "cell_type": "markdown",
   "metadata": {},
   "source": [
    "## Create a Mask and process intensities"
   ]
  },
  {
   "cell_type": "code",
   "execution_count": 4,
   "metadata": {},
   "outputs": [],
   "source": [
    "'''\n",
    "###########################################################\n",
    "SET THE MASK:\n",
    "\n",
    "A large variety of masks are available to be edited. Using\n",
    "the 'set mask template' keyword it is possible to set a \n",
    "predefined mask. Further implementations will allow the \n",
    "change of the default mask parameters and at some point the \n",
    "loading of custome masks from file.\n",
    "###########################################################\n",
    "'''\n",
    "elastic_env.mask.select_template(key = 'SkX_peak_SkXCon')\n",
    "elastic_env.process.calculate_intensity()\n",
    "elastic_result_1 = elastic_env.get_result(name = 'Intensity')\n",
    "\n",
    "elastic_env.mask.select_template(key = 'SkX_peak_Sixfold')\n",
    "elastic_env.process.calculate_intensity()\n",
    "elastic_result_2 = elastic_env.get_result(name = 'Intensity')\n"
   ]
  },
  {
   "cell_type": "markdown",
   "metadata": {},
   "source": [
    "# Vertical data"
   ]
  },
  {
   "cell_type": "markdown",
   "metadata": {},
   "source": [
    "## Create environement and load data"
   ]
  },
  {
   "cell_type": "code",
   "execution_count": 5,
   "metadata": {
    "scrolled": true
   },
   "outputs": [
    {
     "name": "stdout",
     "output_type": "stream",
     "text": [
      "=========== This is the Input ============\n",
      "\n",
      "['Data', '[28.40,0]', '0012', 'range(2727, 2736)', '(8x16x128x128)']\n",
      "['Data', '[62.00,0]', '0012', '[2736]+[i for i in range(2739, 2747)]', '(8x16x128x128)']\n",
      "['Data', '[28.60,0]', '0012', 'range(2747, 2756)', '(8x16x128x128)']\n",
      "['Data', '[28.80,0]', '0012', 'range(2813, 2822)', '(8x16x128x128)']\n",
      "['Data', '[28.95,0]', '0012', 'range(2774, 2783)', '(8x16x128x128)']\n",
      "['Data', '[29.05,0]', '0012', 'range(2804, 2813)', '(8x16x128x128)']\n",
      "['Data', '[29.15,0]', '0012', 'range(2765, 2774)', '(8x16x128x128)']\n",
      "['Data', '[29.25,0]', '0012', 'range(2858, 2867)', '(8x16x128x128)']\n",
      "['Data', '[29.35,0]', '0012', 'range(2756, 2765)', '(8x16x128x128)']\n",
      "['Data', '[29.45,0]', '0012', 'range(2849, 2858)', '(8x16x128x128)']\n",
      "['Data', '[29.60,0]', '0012', 'range(2792, 2801)', '(8x16x128x128)']\n",
      "['Data', '[29.75,0]', '0012', 'range(2783, 2792)', '(8x16x128x128)']\n",
      "['Data', '[30.50,0]', '0012', 'range(2840, 2849)', '(8x16x128x128)']\n",
      "\n",
      "##########################################################\n",
      "################## DATA STRUCTURE ########################\n",
      "##########################################################\n",
      "The datastructure currently consists of:\n",
      "- Number of elements: 14976\n",
      "- Number of dimensions: 5\n",
      "- The axes names are: ['Temperature', 'Measurement', 'Echo', 'Foil', 'Time Channel']\n",
      "- The axes units are: ['K', '-', 's', '-', '-']\n",
      "- The axes lengths are: [13, 1, 9, 8, 16]\n",
      "- The base structure is: np\n",
      "- The base structure dim is: (128, 128)\n",
      "- The metadata addition is set to: True\n",
      "----------------------------------------------------------\n",
      "Creation date: Tue Nov 27 16:32:17 2018\n",
      "Source format: ToF files\n",
      "Measurement type: MIEZE\n",
      "Wavelength error: 0.117\n",
      "Distance error: 0.0005\n",
      "R_1: 9.0\n",
      "R_2: 5.0\n",
      "L_1: 1200\n",
      "L_2: 3500\n",
      "Wavelength in: 6.0\n",
      "Pixel size: 1.5625\n",
      "Qy: 0.035\n",
      "Selected foils: [1,1,1,0,0,1,1,1]\n",
      "Resolution: [28.6, 0]\n",
      "##########################################################\n",
      "\n",
      "\n"
     ]
    }
   ],
   "source": [
    "vertical_env = tool.new_environment(title = 'vertical MIEZE', select = 'MIEZE')\n",
    "vertical_env.io.load_MIEZE_TOF('LoadSkXCon.txt')\n",
    "print(vertical_env.current_data)"
   ]
  },
  {
   "cell_type": "markdown",
   "metadata": {},
   "source": [
    "## Set the mask"
   ]
  },
  {
   "cell_type": "code",
   "execution_count": 6,
   "metadata": {},
   "outputs": [
    {
     "name": "stdout",
     "output_type": "stream",
     "text": [
      "\n",
      "##########################################################\n",
      "################## MASK STRUCTURE ########################\n",
      "##########################################################\n",
      "The mask has been set as follows: \n",
      "- Selected mask template: Pre_SkX_peak_SkXCon\n",
      "- Parameters:\n",
      "          (28, 34)\n",
      "          65\n",
      "          85\n",
      "          (80, 104)\n",
      "          10\n",
      "          11\n",
      "----------------------------------------------------------\n",
      "##########################################################\n",
      "\n",
      "\n"
     ]
    }
   ],
   "source": [
    "vertical_env.mask.select_template(key = 'Pre_SkX_peak_SkXCon')\n",
    "print(vertical_env.mask)"
   ]
  },
  {
   "cell_type": "markdown",
   "metadata": {},
   "source": [
    "## Set the fitting parameters"
   ]
  },
  {
   "cell_type": "code",
   "execution_count": 7,
   "metadata": {},
   "outputs": [],
   "source": [
    "'''\n",
    "###########################################################\n",
    "SET THE FITING PARAMETERS:\n",
    "\n",
    "Each fit class has anumber of fit parameters that can be \n",
    "set. This is doen in the following. \n",
    "###########################################################\n",
    "'''\n",
    "foils_in_echo = []\n",
    "for i in range(5):\n",
    "    foils_in_echo.append([1,1,1,1,1,1])\n",
    "foils_in_echo.append([1,1,0,1,1,1])\n",
    "foils_in_echo.append([1,1,0,1,1,1])\n",
    "foils_in_echo.append([0,0,0,0,1,0])\n",
    "foils_in_echo.append([0,0,0,0,1,0])\n",
    "\n",
    "#set the values to be processed as data\n",
    "Select = [28.40, 28.60, 28.80, 28.95, 29.05, 29.15, 29.25, 29.35, 29.45, 29.60, 29.75]\n",
    "\n",
    "#set the reference value\n",
    "Reference = [28.6,0]\n",
    "\n",
    "#set the background\n",
    "Background = None\n",
    "\n",
    "vertical_env.fit.set_parameter( name = 'Select',        value = Select       )\n",
    "vertical_env.fit.set_parameter( name = 'Reference',     value = Reference    )\n",
    "vertical_env.fit.set_parameter( name = 'Background',    value = Background   )\n",
    "vertical_env.fit.set_parameter( name = 'foils_in_echo', value = foils_in_echo)\n"
   ]
  },
  {
   "cell_type": "markdown",
   "metadata": {},
   "source": [
    "## Process throught the fitting steps"
   ]
  },
  {
   "cell_type": "code",
   "execution_count": 8,
   "metadata": {
    "scrolled": true
   },
   "outputs": [
    {
     "name": "stdout",
     "output_type": "stream",
     "text": [
      "['Temperature', 'Measurement', 'Echo', 'Foil', 'Time Channel']\n",
      "Processing shift for 28.4 K\n",
      "Processing shift for 28.6 K\n",
      "Processing shift for 28.95 K\n",
      "Processing shift for 29.15 K\n",
      "Processing shift for 29.25 K\n",
      "Processing shift for 29.35 K\n",
      "Processing shift for 29.45 K\n",
      "Processing shift for 29.6 K\n",
      "Processing shift for 29.75 K\n",
      "Processing shift for 30.5 K\n",
      "Processing shift for 28.8 K\n",
      "Processing shift for 29.05 K\n",
      "Processing shift for 62.0 K\n"
     ]
    }
   ],
   "source": [
    "'''\n",
    "###########################################################\n",
    "PROCESS THE DATA:\n",
    "\n",
    "\n",
    "The process class maanges the workflows as no fit class\n",
    "funciton should be called dierectly. All results will be \n",
    "put into the result class and logs into the log class\n",
    "linked to the result. \n",
    "###########################################################\n",
    "'''\n",
    "vertical_env.process.calculate_echo()\n",
    "vertical_env.process.remove_foils()\n",
    "vertical_env.process.calculate_shift()\n",
    "vertical_env.mask.select_template(key = 'SkX_peak_SkXCon')"
   ]
  },
  {
   "cell_type": "code",
   "execution_count": 9,
   "metadata": {
    "scrolled": false
   },
   "outputs": [
    {
     "name": "stdout",
     "output_type": "stream",
     "text": [
      "\n",
      "##########################################################\n",
      "################## MASK STRUCTURE ########################\n",
      "##########################################################\n",
      "The mask has been set as follows: \n",
      "- Selected mask template: SkX_peak_SkXCon\n",
      "- Parameters:\n",
      "          (28, 34)\n",
      "          65\n",
      "          85\n",
      "          (82, 100)\n",
      "----------------------------------------------------------\n",
      "##########################################################\n",
      "\n",
      "\n"
     ]
    }
   ],
   "source": [
    "#vertical_env.mask.set_parameters([[28,34], 65, 85,[80, 104]])\n",
    "print(vertical_env.mask)\n",
    "#tool.launch_sp(vertical_env)\n",
    "\n"
   ]
  },
  {
   "cell_type": "code",
   "execution_count": 10,
   "metadata": {
    "scrolled": true
   },
   "outputs": [
    {
     "name": "stdout",
     "output_type": "stream",
     "text": [
      "Processing the reference contrast calculation for: [28.6, 0]\n",
      "Processing the contrast fit for: 28.6 measurement 0.0\n",
      "Processing the contrast fit for: 28.4 measurement 0.0\n",
      "Processing the contrast fit for: 28.6 measurement 0.0\n",
      "Processing the contrast fit for: 28.8 measurement 0.0\n",
      "Processing the contrast fit for: 28.95 measurement 0.0\n",
      "Processing the contrast fit for: 29.05 measurement 0.0\n",
      "Processing the contrast fit for: 29.15 measurement 0.0\n",
      "Processing the contrast fit for: 29.25 measurement 0.0\n",
      "Processing the contrast fit for: 29.35 measurement 0.0\n",
      "Processing the contrast fit for: 29.45 measurement 0.0\n",
      "Processing the contrast fit for: 29.6 measurement 0.0\n",
      "Processing the contrast fit for: 29.75 measurement 0.0\n",
      "Processing the contrast calculation for: 28.4\n",
      "Processing the contrast calculation for: 28.6\n",
      "Processing the contrast calculation for: 28.8\n",
      "Processing the contrast calculation for: 28.95\n",
      "Processing the contrast calculation for: 29.05\n",
      "Processing the contrast calculation for: 29.15\n",
      "Processing the contrast calculation for: 29.25\n",
      "Processing the contrast calculation for: 29.35\n",
      "Processing the contrast calculation for: 29.45\n",
      "Processing the contrast calculation for: 29.6\n",
      "Processing the contrast calculation for: 29.75\n"
     ]
    }
   ],
   "source": [
    "vertical_env.process.calculate_ref_contrast()\n",
    "vertical_env.process.calculate_contrast()\n",
    "vert_result = vertical_env.get_result(name = 'Contrast fit')\n"
   ]
  },
  {
   "cell_type": "code",
   "execution_count": 11,
   "metadata": {},
   "outputs": [
    {
     "name": "stdout",
     "output_type": "stream",
     "text": [
      "2018-11-27 16:32:31.433554 INFORMATION Added the entry'Date' to the metadata\n",
      "2018-11-27 16:32:31.433556 INFORMATION Added the entry'Start' to the metadata\n",
      "2018-11-27 16:32:31.433557 INFORMATION Added the entry'name' to the metadata\n",
      "2018-11-27 16:32:31.444307 INFORMATION Added the entry'Gamma' to the results\n",
      "2018-11-27 16:32:31.444311 INFORMATION Added the entry'Gamma_error' to the results\n",
      "2018-11-27 16:32:31.444313 INFORMATION Added the entry'Curve' to the results\n",
      "2018-11-27 16:32:31.444315 INFORMATION Added the entry'Parameters' to the results\n",
      "2018-11-27 16:32:31.444316 INFORMATION Added the entry'Select' to the results\n",
      "2018-11-27 16:32:31.444318 INFORMATION Added the entry'BG' to the results\n",
      "2018-11-27 16:32:31.444319 INFORMATION Added the entry'Reference' to the results\n",
      "2018-11-27 16:32:31.444321 INFORMATION Added the entry'Axis' to the results\n",
      "2018-11-27 16:32:31.444322 INFORMATION Added the entry'Axis_unit' to the results\n",
      "2018-11-27 16:32:31.444323 INFORMATION Fitting of the contrast was a success\n",
      "2018-11-27 16:32:31.444325 INFORMATION Added the entry'End' to the metadata\n",
      "2018-11-27 16:32:31.444330 INFORMATION Added the entry'Duration' to the metadata\n"
     ]
    }
   ],
   "source": [
    "vert_result.log.dump_to_file('result.txt')\n",
    "vert_result.log.dump_to_console()"
   ]
  },
  {
   "cell_type": "markdown",
   "metadata": {},
   "source": [
    "# Parallel Data"
   ]
  },
  {
   "cell_type": "code",
   "execution_count": 12,
   "metadata": {},
   "outputs": [
    {
     "name": "stdout",
     "output_type": "stream",
     "text": [
      "=========== This is the Input ============\n",
      "\n",
      "['Data', '[68.00,0]', '0012', 'range(2186, 2194)', '(8x16x128x128)']\n",
      "['Data', '[31.00,0]', '0012', 'range(2387, 2395)', '(8x16x128x128)']\n",
      "['Data', '[30.00,0]', '0012', '[2396, 2398, 2401, 2402, 2403]', '(8x16x128x128)']\n",
      "['Data', '[30.00,1]', '0012', '[2408, 2409, 2410]', '(8x16x128x128)']\n",
      "['Data', '[29.80,0]', '0012', '[2412, 2413, 2374, 2375, 2376, 2377, 2378, 2379]', '(8x16x128x128)']\n",
      "['Data', '[29.60,0]', '0012', '[2320, 2321, 2414, 2323, 2415, 2325, 2326, 2327]', '(8x16x128x128)']\n",
      "['Data', '[29.40,0]', '0012', 'range(2334, 2342)', '(8x16x128x128)']\n",
      "['Data', '[29.20,0]', '0012', '[2348, 2349, 2350, 2351, 2352, 2353, 2354]', '(8x16x128x128)']\n",
      "['Data', '[29.20,1]', '0012', '[2416]', '(8x16x128x128)']\n",
      "['Data', '[29.10,0]', '0012', 'range(2418, 2426)', '(8x16x128x128)']\n",
      "['Data', '[29.00,0]', '0012', '[2362, 2363, 2364, 2365, 2366, 2426, 2368, 2369]', '(8x16x128x128)']\n",
      "['Data', '[28.60,0]', '0012', 'range(2434, 2442)', '(8x16x128x128)']\n",
      "['Data', '[28.40,0]', '0012', 'range(2306, 2314)', '(8x16x128x128)']\n",
      "\n",
      "##########################################################\n",
      "################## DATA STRUCTURE ########################\n",
      "##########################################################\n",
      "The datastructure currently consists of:\n",
      "- Number of elements: 11264\n",
      "- Number of dimensions: 5\n",
      "- The axes names are: ['Temperature', 'Measurement', 'Echo Time', 'Foil', 'Time Channel']\n",
      "- The axes units are: ['K', '-', 's', '-', '-']\n",
      "- The axes lengths are: [11, 2, 8, 8, 16]\n",
      "- The base structure is: np\n",
      "- The base structure dim is: (128, 128)\n",
      "- The metadata addition is set to: True\n",
      "----------------------------------------------------------\n",
      "Creation date: Tue Nov 27 16:32:34 2018\n",
      "Source format: ToF files\n",
      "Measurement type: MIEZE\n",
      "Wavelength error: 0.117\n",
      "Distance error: 0.0005\n",
      "R_1: 9.0\n",
      "R_2: 5.0\n",
      "L_1: 1200\n",
      "L_2: 3500\n",
      "Wavelength in: 6.0\n",
      "Pixel size: 1.5625\n",
      "Qy: 0.035\n",
      "Selected foils: [1,1,1,0,0,1,1,1]\n",
      "Resolution: [28.6, 0]\n",
      "##########################################################\n",
      "\n",
      "\n"
     ]
    }
   ],
   "source": [
    "parallel_env = tool.new_environment(title = 'parallel MIEZE', select = 'MIEZE')\n",
    "parallel_env.io.load_MIEZE_TOF('SkXSixfold.txt')\n",
    "print(parallel_env.current_data)\n"
   ]
  },
  {
   "cell_type": "code",
   "execution_count": 13,
   "metadata": {},
   "outputs": [
    {
     "name": "stdout",
     "output_type": "stream",
     "text": [
      "\n",
      "##########################################################\n",
      "################## MASK STRUCTURE ########################\n",
      "##########################################################\n",
      "The mask has been set as follows: \n",
      "- Selected mask template: Pre_SkX_peak_Sixfold\n",
      "- Parameters:\n",
      "          (28, 34)\n",
      "          45\n",
      "          90\n",
      "          (17, 56)\n",
      "          15\n",
      "          13\n",
      "----------------------------------------------------------\n",
      "##########################################################\n",
      "\n",
      "\n"
     ]
    }
   ],
   "source": [
    "parallel_env.mask.select_template(key = 'Pre_SkX_peak_Sixfold')\n",
    "parallel_env.mask.add_command(command_str = 'mask.real[abs(mask.real) > 8] = 0')\n",
    "#parallel_env.mask.set_parameters([[28,34], 90, 45,[17, 56],15,13])\n",
    "print(parallel_env.mask)\n"
   ]
  },
  {
   "cell_type": "code",
   "execution_count": null,
   "metadata": {
    "scrolled": true
   },
   "outputs": [],
   "source": []
  },
  {
   "cell_type": "markdown",
   "metadata": {},
   "source": [
    "## Set fit parameters"
   ]
  },
  {
   "cell_type": "code",
   "execution_count": 14,
   "metadata": {},
   "outputs": [
    {
     "name": "stdout",
     "output_type": "stream",
     "text": [
      "['Temperature', 'Measurement', 'Echo Time', 'Foil', 'Time Channel']\n",
      "Processing shift for 68.0 K\n",
      "Processing shift for 28.4 K\n",
      "Processing shift for 29.8 K\n",
      "Processing shift for 29.4 K\n",
      "Processing shift for 29.2 K\n",
      "Processing shift for 29.2 K\n",
      "Processing shift for 29.1 K\n",
      "Processing shift for 29.0 K\n",
      "Processing shift for 28.6 K\n",
      "Processing shift for 29.6 K\n",
      "Processing shift for 30.0 K\n",
      "Processing shift for 30.0 K\n",
      "Processing shift for 31.0 K\n"
     ]
    }
   ],
   "source": [
    "############################################\n",
    "#initialize them\n",
    "foils_in_echo = []\n",
    "for i in range(4):\n",
    "    foils_in_echo.append([1,1,1,1,1,1])\n",
    "foils_in_echo.append([1,1,0,1,1,1])\n",
    "foils_in_echo.append([1,1,0,1,1,1])\n",
    "foils_in_echo.append([0,0,0,0,1,0])\n",
    "foils_in_echo.append([0,0,0,0,1,0])\n",
    "\n",
    "\n",
    "#set the values to be processed as data\n",
    "Select = [ 28.6, 29.0, 29.1, 29.2, 29.4, 29.6, 29.8, 30.0]\n",
    "\n",
    "#set the reference value\n",
    "Reference = [28.6,0]\n",
    "\n",
    "#set the background\n",
    "Background = 68.0\n",
    "\n",
    "parallel_env.fit.set_parameter( name = 'Select',        value = Select       )\n",
    "parallel_env.fit.set_parameter( name = 'Reference',     value = Reference    )\n",
    "parallel_env.fit.set_parameter( name = 'Background',    value = Background   )\n",
    "parallel_env.fit.set_parameter( name = 'foils_in_echo', value = foils_in_echo)\n",
    "\n",
    "parallel_env.process.calculate_echo()\n",
    "parallel_env.process.remove_foils()\n",
    "parallel_env.process.calculate_shift()"
   ]
  },
  {
   "cell_type": "markdown",
   "metadata": {},
   "source": [
    "## Process to fit the data"
   ]
  },
  {
   "cell_type": "code",
   "execution_count": 15,
   "metadata": {
    "scrolled": true
   },
   "outputs": [
    {
     "name": "stdout",
     "output_type": "stream",
     "text": [
      "\n",
      "##########################################################\n",
      "################## MASK STRUCTURE ########################\n",
      "##########################################################\n",
      "The mask has been set as follows: \n",
      "- Selected mask template: SkX_peak_Sixfold\n",
      "- Parameters:\n",
      "          (27, 33)\n",
      "          47\n",
      "          90\n",
      "          (15, 52)\n",
      "----------------------------------------------------------\n",
      "##########################################################\n",
      "\n",
      "\n",
      "Processing the reference contrast calculation for: [28.6, 0]\n",
      "Processing the contrast fit for: 28.6 measurement 0.0\n",
      "2018-11-27 16:32:46.878444 ERROR cov_failed\n",
      "2018-11-27 16:32:46.878514 ERROR Fit failed: Covariance not valid.\n",
      "2018-11-27 16:32:46.878918 ERROR Could not find the key: ampl, returning 0\n",
      "2018-11-27 16:32:46.878940 ERROR Could not find the key: ampl_error, returning 0\n",
      "2018-11-27 16:32:46.878952 ERROR Could not find the key: mean, returning 0\n",
      "2018-11-27 16:32:46.878975 ERROR Could not find the key: mean_error, returning 0\n",
      "2018-11-27 16:32:46.918935 WARNING The amplitude from the reference fit is 0. Please investigate...\n",
      "2018-11-27 16:32:46.918992 ERROR Setting the value to 1\n",
      "Processing the contrast fit for: 28.6 measurement 0.0\n",
      "2018-11-27 16:32:46.962753 ERROR cov_failed\n",
      "2018-11-27 16:32:46.962818 ERROR Fit failed: Covariance not valid.\n",
      "2018-11-27 16:32:46.963483 ERROR Could not find the key: ampl, returning 0\n",
      "2018-11-27 16:32:46.963508 ERROR Could not find the key: ampl_error, returning 0\n",
      "2018-11-27 16:32:46.963522 ERROR Could not find the key: mean, returning 0\n",
      "2018-11-27 16:32:46.963549 ERROR Could not find the key: mean_error, returning 0\n",
      "Processing the contrast fit for: 29.0 measurement 0.0\n",
      "Processing the contrast fit for: 29.1 measurement 0.0\n",
      "Processing the contrast fit for: 29.2 measurement 0.0\n",
      "Processing the contrast fit for: 29.2 measurement 1.0\n",
      "Processing the contrast fit for: 29.4 measurement 0.0\n",
      "Processing the contrast fit for: 29.6 measurement 0.0\n",
      "Processing the contrast fit for: 29.8 measurement 0.0\n",
      "Processing the contrast fit for: 30.0 measurement 0.0\n",
      "Processing the contrast fit for: 30.0 measurement 1.0\n",
      "Processing the Background contrast calculation for: 68.0\n",
      "Processing the contrast fit for: 68.0 measurement 0.0\n",
      "Processing the contrast calculation for: 28.6\n",
      "Processing the contrast calculation for: 29.0\n",
      "Processing the contrast calculation for: 29.1\n",
      "Processing the contrast calculation for: 29.2\n",
      "Processing the contrast calculation for: 29.4\n",
      "Processing the contrast calculation for: 29.6\n",
      "Processing the contrast calculation for: 29.8\n",
      "Processing the contrast calculation for: 30.0\n"
     ]
    }
   ],
   "source": [
    "parallel_env.mask.select_template(key = 'SkX_peak_Sixfold')\n",
    "print(parallel_env.mask)\n",
    "\n",
    "parallel_env.process.calculate_ref_contrast()\n",
    "\n",
    "#coorect values\n",
    "parallel_env.results.set_result( \n",
    "         name = 'Reference contrast calculation', \n",
    "         position = ['Contrast_ref',0.36585973199337996], \n",
    "         value = 0.73)\n",
    "\n",
    "parallel_env.results.set_result(\n",
    "         name = 'Reference contrast calculation', \n",
    "         position = ['Contrast_ref_error',0.36585973199337996], \n",
    "         value = 0.0035)\n",
    "\n",
    "parallel_env.process.calculate_contrast()\n",
    "parallel_result = parallel_env.get_result(name = 'Contrast fit')\n"
   ]
  },
  {
   "cell_type": "markdown",
   "metadata": {},
   "source": [
    "# Plot perp data"
   ]
  },
  {
   "cell_type": "code",
   "execution_count": 16,
   "metadata": {},
   "outputs": [
    {
     "name": "stderr",
     "output_type": "stream",
     "text": [
      "No handles with labels found to put in legend.\n"
     ]
    },
    {
     "name": "stdout",
     "output_type": "stream",
     "text": [
      "[9.82102475e-05 9.03035645e-05 1.08338058e-04 1.00944553e-04\n",
      " 1.69793613e-04 2.80027401e-03 1.43889909e-02 1.35404492e-02\n",
      " 9.58845270e-03 3.41989164e-03 2.83053173e-04 1.70741260e-04\n",
      " 1.58362142e-04 1.55774525e-04 1.38898535e-04 1.19751353e-04\n",
      " 1.13287537e-04 1.19897106e-04 1.00467251e-04 1.10142687e-04\n",
      " 1.00294941e-04 8.52722716e-05]\n"
     ]
    },
    {
     "data": {
      "image/png": "[encoded data removed]",
      "text/plain": [
       "<Figure size 1152x360 with 3 Axes>"
      ]
     },
     "metadata": {},
     "output_type": "display_data"
    }
   ],
   "source": [
    "############################################\n",
    "#see what hapens\n",
    "import matplotlib.pyplot as plt\n",
    "import matplotlib as mpl\n",
    "import numpy as np\n",
    "import scipy.constants as co\n",
    "from matplotlib.colors import Colormap, LogNorm\n",
    "from matplotlib.cm import get_cmap\n",
    "import pandas as pd\n",
    "%matplotlib inline\n",
    "fig = plt.figure(figsize=(16,5))\n",
    "ax = fig.add_subplot(1,2,1)\n",
    "\n",
    "Ts = []\n",
    "Gammas = []\n",
    "Gammaerrs = []\n",
    "\n",
    "index = 0\n",
    "def get_color(n, number_of_colors, cmapstr):\n",
    "\n",
    "    cmap = get_cmap(cmapstr)\n",
    "\n",
    "    return cmap(float(n)/number_of_colors)\n",
    "\n",
    "for T in vert_result['Select']:\n",
    "    x           = vert_result['Parameters'][T]['x']\n",
    "    y           = vert_result['Parameters'][T]['y']\n",
    "    y_error     = vert_result['Parameters'][T]['y_error']\n",
    "\n",
    "    c = get_color(index,11,'tab10')\n",
    "    ax.errorbar(\n",
    "        x, \n",
    "        y+1.2-index*0.2,\n",
    "        y_error, \n",
    "        fmt='o', \n",
    "        color=c)\n",
    "        #label='$T=%.2f\\,K$' %SkXCon[T].T_B)\n",
    "    x = np.linspace(0.01,3,1000)\n",
    "\n",
    "    ax.plot(x, vert_result['Curve'][T]+1.2-index*0.2, color=c)\n",
    "    \n",
    "    index += 1\n",
    "\n",
    "\n",
    "ax.set_xscale('log')\n",
    "ax.set_xlim(0.01,3)\n",
    "ax.legend(bbox_to_anchor=(-0.1,0.9))\n",
    "ax.text(2e-2, 0, r'$B \\perp n$, $B=160\\,mT$', fontsize=14)\n",
    "\n",
    "\n",
    "ax1 = fig.add_subplot(1,2,2)\n",
    "c = get_color(0,10,'tab10')\n",
    "ax1.errorbar(\n",
    "    vert_result['Select'],\n",
    "    [vert_result['Gamma'][T] for T in vert_result['Select']],\n",
    "    [vert_result['Gamma_error'][T] for T in vert_result['Select']],\n",
    "    fmt='o', color=c, label='Franz\\' quasielastic')\n",
    "\n",
    "ax1.set_ylabel(r'$\\Gamma\\ (\\mu eV)$')\n",
    "ax1.set_xlabel(r'$T\\ (K)$')\n",
    "ax1.set_xlim(27,31)\n",
    "ax1.legend()\n",
    "\n",
    "ax2 = ax1.twinx()\n",
    "c = get_color(1, 10, 'tab10')\n",
    "ax2.errorbar(\n",
    "    elastic_result_1['Axis']['100_1'],\n",
    "    elastic_result_1['Intensity']['100_1'],\n",
    "    yerr=elastic_result_1['Intensity_error']['100_1'],\n",
    "    fmt='o', color=c, label='Franz\\' elastic')\n",
    "\n",
    "print(elastic_result_1['Intensity']['100_1'])\n",
    "#load Jonas' data\n",
    "#Jdata = pd.read_csv('/Users/alexanderschober/Downloads/Data_analysis_Schober/201806_RESEDA/data/Kindervater_Bvertn_quasielastic', skiprows=6, names=['T1', 'Gamma'])\n",
    "#c = get_color(0, 10, 'tab10')\n",
    "#ax1.errorbar(Jdata['T1']+0.2, Jdata['Gamma'], fmt='s', mec=c, mew=2, label='Jonas\\' elastic', color='None')\n",
    "\n",
    "#Jdata = pd.read_csv('data/Kindervater_Bvertn_intensity', skiprows=6, names=['T2', 'Int'])\n",
    "#c = get_color(1, 10, 'tab10')\n",
    "#ax2.errorbar(Jdata['T2']+0.2, Jdata['Int']/(22.*3), fmt='s', mec=c, mew=2, label='Jonas\\' quasielastic', color='None')\n",
    "#plt.savefig('B_vert_n.pdf')"
   ]
  },
  {
   "cell_type": "markdown",
   "metadata": {},
   "source": [
    "# Plot parallel data"
   ]
  },
  {
   "cell_type": "code",
   "execution_count": 17,
   "metadata": {
    "scrolled": false
   },
   "outputs": [
    {
     "name": "stdout",
     "output_type": "stream",
     "text": [
      "[28.6, 29.0, 29.1, 29.2, 29.4, 29.6, 29.8, 30.0]\n",
      "[1.01058076 1.00967157 1.01061167 0.0484993  1.01014877 1.00976321\n",
      " 1.00942497 1.00856799]\n",
      "[0.96323079 0.95287001 0.98280711 0.8368817  0.86051461 0.92529293\n",
      " 0.65944779 0.65223978]\n",
      "[0.97380776 0.85406572 0.81238675 0.7776311  0.71578907 0.82186852\n",
      " 0.39316578 0.53694041]\n",
      "[1.03160578 0.87462085 1.02273171 0.58959349 0.50296645 0.52236966\n",
      " 0.38145684 0.14034147]\n",
      "[0.93724241 0.75817537 0.51223306 0.64496213 0.43775665 0.38504403\n",
      " 0.1155507  0.05810715]\n",
      "[1.03286775 0.68651169 0.59282916 0.31650569 0.51152298 0.37626472\n",
      " 0.06969119 0.20158715]\n",
      "[0.91600867 0.66107313 0.5511825  0.32699103 0.30391082 0.16697458\n",
      " 0.30494993 0.14010694]\n",
      "[0.76504422 0.38060924 0.01243215 0.03373237 0.07644417 0.31043972\n",
      " 0.20958195 0.35668126]\n"
     ]
    },
    {
     "data": {
      "image/png": "[encoded data removed]",
      "text/plain": [
       "<Figure size 1152x360 with 3 Axes>"
      ]
     },
     "metadata": {},
     "output_type": "display_data"
    }
   ],
   "source": [
    "############################################\n",
    "#see what hapens\n",
    "import matplotlib.pyplot as plt\n",
    "import matplotlib as mpl\n",
    "import numpy as np\n",
    "import scipy.constants as co\n",
    "from matplotlib.colors import Colormap, LogNorm\n",
    "from matplotlib.cm import get_cmap\n",
    "import pandas as pd\n",
    "%matplotlib inline\n",
    "fig = plt.figure(figsize=(16,5))\n",
    "ax = fig.add_subplot(1,2,1)\n",
    "\n",
    "Ts = []\n",
    "Gammas = []\n",
    "Gammaerrs = []\n",
    "\n",
    "index = 0\n",
    "\n",
    "def get_color(n, number_of_colors, cmapstr):\n",
    "\n",
    "    cmap = get_cmap(cmapstr)\n",
    "\n",
    "    return cmap(float(n)/number_of_colors)\n",
    "\n",
    "print(parallel_result['Select'])\n",
    "for T in parallel_result['Select']:\n",
    "    \n",
    "    x           = parallel_result['Parameters'][T]['x']\n",
    "    y           = parallel_result['Parameters'][T]['y']\n",
    "    print(y)\n",
    "    y_error     = parallel_result['Parameters'][T]['y_error']\n",
    "\n",
    "    c = get_color(index,10,'tab10')\n",
    "    ax.errorbar(\n",
    "        x, \n",
    "        y+1.2-index*0.2,\n",
    "        y_error, \n",
    "        fmt='o', \n",
    "        color=c,\n",
    "        label='$T=%.2f\\,K$' %T)\n",
    "    x = np.linspace(0.01,3,1000)\n",
    "\n",
    "    ax.plot(x, parallel_result['Curve'][T]+1.2-index*0.2, color=c)\n",
    "    \n",
    "    index += 1\n",
    "\n",
    "\n",
    "ax.set_xscale('log')\n",
    "ax.set_xlim(0.01,3)\n",
    "ax.legend(bbox_to_anchor=(-0.1,0.9))\n",
    "ax.text(2e-2, 0, r'$B \\perp n$, $B=160\\,mT$', fontsize=14)\n",
    "\n",
    "\n",
    "ax1 = fig.add_subplot(1,2,2)\n",
    "c = get_color(0,10,'tab10')\n",
    "ax1.errorbar(\n",
    "    parallel_result['Select'],\n",
    "    [parallel_result['Gamma'][T] for T in parallel_result['Select']],\n",
    "    [parallel_result['Gamma_error'][T] for T in parallel_result['Select']],\n",
    "    fmt='o', color=c, label='Franz\\' quasielastic')\n",
    "\n",
    "ax1.set_ylabel(r'$\\Gamma\\ (\\mu eV)$')\n",
    "ax1.set_xlabel(r'$T\\ (K)$')\n",
    "ax1.set_xlim(27,31)\n",
    "ax1.legend()\n",
    "\n",
    "ax2 = ax1.twinx()\n",
    "c = get_color(1, 10, 'tab10')\n",
    "ax2.errorbar(\n",
    "    elastic_result_2['Axis']['110_1'], \n",
    "    elastic_result_2['Intensity']['110_1'], \n",
    "    yerr=elastic_result_2['Intensity_error']['110_1'], \n",
    "    fmt='o', color=c, label='Franz\\' elastic')\n",
    "\n",
    "#load Jonas' data\n",
    "#Jdata = pd.read_csv('data/Kindervater_Bparan_quasielastic', skiprows=6, names=['T1', 'Gamma'])\n",
    "#c = get_color(0, 10, 'tab10')\n",
    "#ax1.errorbar(Jdata['T1']+0.4, Jdata['Gamma'], fmt='s', mec=c, mew=2, label='Jonas\\' elastic', color='None')\n",
    "\n",
    "#Jdata = pd.read_csv('data/Kindervater_Bparan_intensity', skiprows=6, names=['T2', 'Int'])\n",
    "#c = get_color(1, 10, 'tab10')\n",
    "#ax2.errorbar(Jdata['T2']+0.4, Jdata['Int']/(44*3), fmt='s', mec=c, mew=2, label='Jonas\\' quasielastic', color='None')\n",
    "plt.savefig('B_parallel_n.pdf')"
   ]
  },
  {
   "cell_type": "code",
   "execution_count": null,
   "metadata": {},
   "outputs": [],
   "source": []
  },
  {
   "cell_type": "code",
   "execution_count": null,
   "metadata": {},
   "outputs": [],
   "source": []
  },
  {
   "cell_type": "code",
   "execution_count": null,
   "metadata": {},
   "outputs": [],
   "source": []
  },
  {
   "cell_type": "code",
   "execution_count": null,
   "metadata": {},
   "outputs": [],
   "source": []
  }
 ],
 "metadata": {
  "kernelspec": {
   "display_name": "Python 3",
   "language": "python",
   "name": "python3"
  },
  "language_info": {
   "codemirror_mode": {
    "name": "ipython",
    "version": 3
   },
   "file_extension": ".py",
   "mimetype": "text/x-python",
   "name": "python",
   "nbconvert_exporter": "python",
   "pygments_lexer": "ipython3",
   "version": "3.7.0"
  }
 },
 "nbformat": 4,
 "nbformat_minor": 2
}
